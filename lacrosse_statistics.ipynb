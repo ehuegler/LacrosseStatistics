{
 "cells": [
  {
   "cell_type": "markdown",
   "metadata": {},
   "source": [
    "# Lacrosse Statistics\n",
    "\n",
    "Lacrosse is dominated by RPI, but that is outdated\n",
    "What if there were a better ranking system?"
   ]
  },
  {
   "cell_type": "code",
   "execution_count": null,
   "metadata": {},
   "outputs": [],
   "source": [
    "import requests as reqs\n",
    "from bs4 import BeautifulSoup\n",
    "import pandas as pd\n",
    "import re\n",
    "from datetime import datetime"
   ]
  },
  {
   "cell_type": "code",
   "execution_count": null,
   "metadata": {},
   "outputs": [],
   "source": [
    "def remove_record(str):\n",
    "  return re.match(r'^(.*) \\(', str).group(1)\n"
   ]
  },
  {
   "cell_type": "code",
   "execution_count": null,
   "metadata": {},
   "outputs": [],
   "source": [
    "df_elo = pd.DataFrame()\n",
    "\n",
    "for i in range(1, 76):\n",
    "  try:\n",
    "    req = reqs.get('https://lacrossereference.com/teams/a00%02d' % (i))\n",
    "    soup = BeautifulSoup(req.content)\n",
    "\n",
    "    # Scrapping the team's name first\n",
    "    # the team name is in a div with a unique set of CSS classes so it can be easily puled out with beautiful soup\n",
    "    team_str = soup.find(class_='col-12 font-24 bold').get_text()\n",
    "    # that div does contain the teams record as well, so this regular expression isolates the name\n",
    "    team = remove_record(team_str)\n",
    "\n",
    "    # Scrapping ELO data\n",
    "    # The ELO table is unfortunately not a HTML table, but we can grab the div by its unique ID\n",
    "    elo_table_string = soup.find(id='elo_change_table').get_text()\n",
    "\n",
    "    # the table lists a starting ELO, and then the change in ELO after each game\n",
    "    # here we pull out the starting ELO by targeting its div\n",
    "    starting_elo = int(soup.find_all(class_=\"no-padding dtop\")[1].get_text())\n",
    "\n",
    "    # thanks to beautiful soup the rows of the table are seperated by 2 new lines and the columns by a single new line\n",
    "    # splitting on rows and columns then trhowing out rows/columns that do not contain data gives a 2D array that pandas can turn into a dataframe\n",
    "    elo_table = pd.DataFrame([x.split('\\n')[1:] for x in elo_table_string.split('\\n\\n')[3:-1]])\\\n",
    "\n",
    "    # name columns, drop unnecessary ones and add a team name column\n",
    "    elo_table.columns = ['opponent', 'score', 'date', 'elo']\n",
    "    elo_table.drop(['opponent', 'score'], axis=1,  inplace=True)\n",
    "    elo_table['team'] = team\n",
    "\n",
    "    # convert date and ELO columns to datetimes and numerics\n",
    "    elo_table['date'] = pd.to_datetime(elo_table['date'] + ' 2022', format='%b %d %Y')\n",
    "    elo_table['elo'] = pd.to_numeric(elo_table['elo'])\n",
    "\n",
    "    # add row for initial elo on 1/28, they day befor the first game of the season\n",
    "    initial = {\n",
    "      'team': team,\n",
    "      'elo': starting_elo,\n",
    "      'date': pd.to_datetime('2022-01-28'),\n",
    "    }\n",
    "    df_elo = df_elo.append(initial, ignore_index=True)\n",
    "\n",
    "    # Since the ELO column is the game to game change, need to go through it and update it to be an absolute ELO\n",
    "    for index, row in elo_table.iterrows():\n",
    "      prev = starting_elo if index == 0 else elo_table.loc[index - 1, 'elo']\n",
    "      elo_table.loc[index, 'elo'] = elo_table.loc[index, 'elo'] + prev\n",
    "\n",
    "    # add the \n",
    "    df_elo = df_elo.append(elo_table)\n",
    "  \n",
    "  except Exception as err:\n",
    "    print('Problem fetching data from: \"https://lacrossereference.com/teams/a00%02d\"' % (i))"
   ]
  },
  {
   "cell_type": "markdown",
   "metadata": {},
   "source": [
    "Checking those lniks they appear to be for teams who were in D1 at one point but are no longer in D1 this year."
   ]
  },
  {
   "cell_type": "code",
   "execution_count": null,
   "metadata": {},
   "outputs": [],
   "source": [
    "headers = {\"User-Agent\": \"Mozilla/5.0 (Windows NT 10.0; Win64; x64)\"}\n",
    "\n",
    "df_games = pd.DataFrame()\n",
    "\n",
    "for date in pd.date_range('2022-01-29', datetime.now()):\n",
    "  try: \n",
    "    url = f'https://stats.ncaa.org/season_divisions/17822/scoreboards?utf8=%E2%9C%93&season_division_id=&game_date={date.month}%2F{date.day}%2F2022&conference_id=0&tournament_id=&commit=Submit'\n",
    "\n",
    "    req = reqs.get(url, headers=headers)\n",
    "    games_table = pd.read_html(req.content)[0]\n",
    "    for i in range(0, len(games_table), 5):\n",
    "      game = games_table.loc[i:i+5]\n",
    "      team1 = remove_record(game.loc[i, 'Teams.1'])\n",
    "      team2 = remove_record(game.loc[i+3, 'Teams'])\n",
    "      team1_score = int(game.loc[i, 'Score.1'])\n",
    "      team2_score = int(game.loc[i + 3, 'Teams.1'])\n",
    "\n",
    "      # let win = 1 and loss = 0 to make manipulation easy later\n",
    "      team1_outcome = 1 if team1_score > team2_score else 0\n",
    "      team2_outcome = 0 if team2_score > team1_score else 1\n",
    "\n",
    "      game1 = {\n",
    "        'date': date,\n",
    "        'opponent': team2,\n",
    "        'outcome': team1_outcome,\n",
    "        'team': team1,\n",
    "      }\n",
    "      game2 = {\n",
    "        'date': date,\n",
    "        'opponent': team1,\n",
    "        'outcome': team2_outcome,\n",
    "        'team': team2,\n",
    "      }\n",
    "\n",
    "      df_games = df_games.append(game1, ignore_index=True)\n",
    "      df_games = df_games.append(game2, ignore_index=True)\n",
    "  \n",
    "  except Exception as err:\n",
    "    print('No games on ' + date.isoformat()[:10])\n",
    "\n",
    "\n"
   ]
  },
  {
   "cell_type": "code",
   "execution_count": null,
   "metadata": {},
   "outputs": [],
   "source": [
    "def get_elo_before(team, date):\n",
    "  x = df_elo[(df_elo['team'] == team) & (df_elo['date'] < date)]\n",
    "  return x.iloc[-1]['elo']\n",
    "\n",
    "def get_rpi_before(team, date):\n",
    "  return\n",
    "\n",
    "team = 'Maryland'\n",
    "date = datetime.today()\n",
    "\n",
    "games_played = df_games[df_games['team'] == team]\n",
    "opponents = games_played['opponent']\n",
    "\n",
    "games_played['outcome'].sum()"
   ]
  },
  {
   "cell_type": "code",
   "execution_count": null,
   "metadata": {},
   "outputs": [],
   "source": [
    "# USILA\n",
    "headers = {'User-Agent' : 'Chrome/{Chrome Rev} Mobile Safari/{WebKit Rev}'}\n",
    "x = reqs.get('https://usila.org/sports/mlax', headers=headers)\n",
    "soup = BeautifulSoup(x.content)\n",
    "\n",
    "# soup.find_all('a')"
   ]
  },
  {
   "cell_type": "code",
   "execution_count": null,
   "metadata": {},
   "outputs": [],
   "source": []
  }
 ],
 "metadata": {
  "interpreter": {
   "hash": "31f2aee4e71d21fbe5cf8b01ff0e069b9275f58929596ceb00d14d90e3e16cd6"
  },
  "kernelspec": {
   "display_name": "Python 3.8.10 64-bit",
   "language": "python",
   "name": "python3"
  },
  "language_info": {
   "codemirror_mode": {
    "name": "ipython",
    "version": 3
   },
   "file_extension": ".py",
   "mimetype": "text/x-python",
   "name": "python",
   "nbconvert_exporter": "python",
   "pygments_lexer": "ipython3",
   "version": "3.8.6"
  },
  "orig_nbformat": 4
 },
 "nbformat": 4,
 "nbformat_minor": 2
}
